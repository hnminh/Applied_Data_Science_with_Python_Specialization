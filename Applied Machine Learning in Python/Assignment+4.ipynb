{
 "cells": [
  {
   "cell_type": "markdown",
   "metadata": {},
   "source": [
    "---\n",
    "\n",
    "_You are currently looking at **version 1.1** of this notebook. To download notebooks and datafiles, as well as get help on Jupyter notebooks in the Coursera platform, visit the [Jupyter Notebook FAQ](https://www.coursera.org/learn/python-machine-learning/resources/bANLa) course resource._\n",
    "\n",
    "---"
   ]
  },
  {
   "cell_type": "code",
   "execution_count": 93,
   "metadata": {
    "collapsed": false
   },
   "outputs": [
    {
     "output_type": "execute_result",
     "data": {
      "text/plain": "0        0.0\n1        0.0\n2        0.0\n3        0.0\n4        0.0\n        ... \n60996    0.0\n60997    0.0\n60998    0.0\n60999    0.0\n61000    0.0\nLength: 61001, dtype: float64"
     },
     "metadata": {},
     "execution_count": 93
    }
   ],
   "source": [
    "import pandas as pd\n",
    "import numpy as np\n",
    "from sklearn.ensemble import RandomForestClassifier\n",
    "from sklearn.metrics import roc_auc_score\n",
    "\n",
    "def blight_model():\n",
    "    \n",
    "    # Your code here\n",
    "\n",
    "    # data reading\n",
    "    train_data = pd.read_csv('readonly/train.csv',encoding='ISO-8859-1')\n",
    "    test_data = pd.read_csv('readonly/test.csv')\n",
    "    addresses = pd.read_csv('readonly/addresses.csv')\n",
    "    latlons = pd.read_csv('readonly/latlons.csv')\n",
    "    \n",
    "    # dataframes merging\n",
    "    addresses = pd.merge(addresses, latlons, how='inner', on='address')\n",
    "    train_data = pd.merge(train_data, addresses, how='left', on='ticket_id')\n",
    "    test_data = pd.merge(test_data, addresses, how='left', on='ticket_id')\n",
    "\n",
    "    # remove clutter\n",
    "    train_data = train_data.dropna(subset=['compliance'])\n",
    "    train_data = train_data.set_index('ticket_id')\n",
    "    test_data = test_data.set_index('ticket_id')\n",
    "\n",
    "    # setting up dataset\n",
    "    X_train = train_data[['fine_amount', 'admin_fee', 'state_fee', 'late_fee', 'discount_amount', 'clean_up_cost',  'judgment_amount', 'lat', 'lon']]\n",
    "    y_train = train_data['compliance']\n",
    "    X_test = test_data[['fine_amount', 'admin_fee', 'state_fee', 'late_fee', 'discount_amount', 'clean_up_cost',  'judgment_amount', 'lat', 'lon']]\n",
    "    X_train = X_train.fillna(axis=1, method='ffill')\n",
    "    X_test = X_test.fillna(axis=1, method='ffill')\n",
    "\n",
    "    # data training and predict\n",
    "    clf = RandomForestClassifier(n_estimators=10, random_state=0).fit(X_train, y_train)\n",
    "    y_predict = clf.predict(X_test)\n",
    "    \n",
    "    return pd.Series(y_predict)\n",
    "    \n",
    "blight_model()"
   ]
  },
  {
   "cell_type": "code",
   "execution_count": 19,
   "metadata": {
    "collapsed": false,
    "scrolled": false
   },
   "outputs": [],
   "source": []
  }
 ],
 "metadata": {
  "coursera": {
   "course_slug": "python-machine-learning",
   "graded_item_id": "nNS8l",
   "launcher_item_id": "yWWk7",
   "part_id": "w8BSS"
  },
  "kernelspec": {
   "display_name": "Python 3.7.7 64-bit (conda)",
   "language": "python",
   "name": "python37764bitcondaebee5dd440f44a59b0b90b0ec5d8bd4a"
  },
  "language_info": {
   "codemirror_mode": {
    "name": "ipython",
    "version": 3
   },
   "file_extension": ".py",
   "mimetype": "text/x-python",
   "name": "python",
   "nbconvert_exporter": "python",
   "pygments_lexer": "ipython3",
   "version": "3.7.7-final"
  }
 },
 "nbformat": 4,
 "nbformat_minor": 2
}